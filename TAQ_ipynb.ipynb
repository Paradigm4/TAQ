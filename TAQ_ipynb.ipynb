{
 "cells": [
  {
   "cell_type": "markdown",
   "metadata": {},
   "source": [
    "# Example SciDB queries for trade and quote data\n",
    "\n",
    "This iPython Notebook replicates the work done by AFL queries at [this repo's main page](https://github.com/Paradigm4/TAQ/) in SciDB-py. \n",
    "\n",
    "First follow the first few steps on that page to load trades and quotes data into SciDB. The last command you should run there is:\n",
    "```\n",
    "./quotes_redim.sh\n",
    "```\n",
    "\n",
    "Then let's run some fun queries on the loaded trades and quote (TAQ) data from the comfort of SciDB-Py.\n",
    "\n",
    "First let us set up the connectivity to the database (and also import some useful libraries)"
   ]
  },
  {
   "cell_type": "code",
   "execution_count": 1,
   "metadata": {
    "collapsed": false
   },
   "outputs": [],
   "source": [
    "import matplotlib.pyplot as plt\n",
    "from scidbpy import connect\n",
    "import time\n",
    "#sdb = connect() \n",
    "sdb = connect(\"http://localhost:8080\")\n",
    "afl = sdb.afl"
   ]
  },
  {
   "cell_type": "markdown",
   "metadata": {},
   "source": [
    "Next, associate Python objects with SciDB arrays (no data transfers yet -- just connections)"
   ]
  },
  {
   "cell_type": "code",
   "execution_count": 2,
   "metadata": {
    "collapsed": true
   },
   "outputs": [],
   "source": [
    "trades = sdb.wrap_array('trades')\n",
    "quotes = sdb.wrap_array('quotes')\n",
    "tkr = sdb.wrap_array('tkr')"
   ]
  },
  {
   "cell_type": "markdown",
   "metadata": {},
   "source": [
    "An example lookup"
   ]
  },
  {
   "cell_type": "code",
   "execution_count": 3,
   "metadata": {
    "collapsed": false
   },
   "outputs": [
    {
     "data": {
      "text/html": [
       "<div>\n",
       "<table border=\"1\" class=\"dataframe\">\n",
       "  <thead>\n",
       "    <tr style=\"text-align: right;\">\n",
       "      <th></th>\n",
       "      <th>symbol</th>\n",
       "    </tr>\n",
       "    <tr>\n",
       "      <th>symbol_index</th>\n",
       "      <th></th>\n",
       "    </tr>\n",
       "  </thead>\n",
       "  <tbody>\n",
       "    <tr>\n",
       "      <th>0</th>\n",
       "      <td>A</td>\n",
       "    </tr>\n",
       "    <tr>\n",
       "      <th>1</th>\n",
       "      <td>AA</td>\n",
       "    </tr>\n",
       "    <tr>\n",
       "      <th>2</th>\n",
       "      <td>AA    PR</td>\n",
       "    </tr>\n",
       "    <tr>\n",
       "      <th>3</th>\n",
       "      <td>AADR</td>\n",
       "    </tr>\n",
       "    <tr>\n",
       "      <th>4</th>\n",
       "      <td>AAIT</td>\n",
       "    </tr>\n",
       "  </tbody>\n",
       "</table>\n",
       "</div>"
      ],
      "text/plain": [
       "                symbol\n",
       "symbol_index          \n",
       "0                    A\n",
       "1                   AA\n",
       "2             AA    PR\n",
       "3                 AADR\n",
       "4                 AAIT"
      ]
     },
     "execution_count": 3,
     "metadata": {},
     "output_type": "execute_result"
    }
   ],
   "source": [
    "tkr.todataframe().head()"
   ]
  },
  {
   "cell_type": "markdown",
   "metadata": {},
   "source": [
    "## Looking up trades by symbol string\n",
    "\n",
    "Join with the auxiliary `tkr` array to look up data by ticker symbol name. Here are examples that count the number of trades and quotes for 'BAM'.\n"
   ]
  },
  {
   "cell_type": "code",
   "execution_count": 4,
   "metadata": {
    "collapsed": false
   },
   "outputs": [
    {
     "name": "stdout",
     "output_type": "stream",
     "text": [
      "6337\n",
      "49667\n"
     ]
    }
   ],
   "source": [
    "symbol = \"BAM\"\n",
    "print(sdb.merge(trades,\n",
    "            tkr.filter(\"symbol='%s'\" % symbol)\n",
    "          ).nonempty())\n",
    "print(sdb.merge(quotes,\n",
    "            tkr.filter(\"symbol='%s'\" % symbol)\n",
    "          ).nonempty())"
   ]
  },
  {
   "cell_type": "markdown",
   "metadata": {},
   "source": [
    "As expected we see more quotes than trades for this instrument. Note that you can also just filter directly by symbol index using `between` if you know it. For example:"
   ]
  },
  {
   "cell_type": "code",
   "execution_count": 5,
   "metadata": {
    "collapsed": false
   },
   "outputs": [
    {
     "data": {
      "text/html": [
       "<div>\n",
       "<table border=\"1\" class=\"dataframe\">\n",
       "  <thead>\n",
       "    <tr style=\"text-align: right;\">\n",
       "      <th></th>\n",
       "      <th>symbol</th>\n",
       "    </tr>\n",
       "    <tr>\n",
       "      <th>symbol_index</th>\n",
       "      <th></th>\n",
       "    </tr>\n",
       "  </thead>\n",
       "  <tbody>\n",
       "    <tr>\n",
       "      <th>615</th>\n",
       "      <td>BAM</td>\n",
       "    </tr>\n",
       "  </tbody>\n",
       "</table>\n",
       "</div>"
      ],
      "text/plain": [
       "             symbol\n",
       "symbol_index       \n",
       "615             BAM"
      ]
     },
     "execution_count": 5,
     "metadata": {},
     "output_type": "execute_result"
    }
   ],
   "source": [
    "tkr.filter(\"symbol='%s'\" % symbol).todataframe()"
   ]
  },
  {
   "cell_type": "code",
   "execution_count": 6,
   "metadata": {
    "collapsed": false
   },
   "outputs": [
    {
     "name": "stdout",
     "output_type": "stream",
     "text": [
      "[u'dummy', u'symbol_index', u'ms']\n"
     ]
    },
    {
     "data": {
      "text/plain": [
       "6337"
      ]
     },
     "execution_count": 6,
     "metadata": {},
     "output_type": "execute_result"
    }
   ],
   "source": [
    "print(trades.dim_names)\n",
    "trades.between('null', 615, 'null', 'null', 615, 'null').nonempty()"
   ]
  },
  {
   "cell_type": "markdown",
   "metadata": {
    "collapsed": false
   },
   "source": [
    "## Computing minute bars\n",
    "\n",
    "The trade data are now organized by symbol, time, and a dummy coordinate that separates collisions (due to, say exchanges) in a sparse array.\n",
    "\n",
    "The following query computes and store one-minute open/high/low/close bars from these data. We need some extra aggregates from the axial_aggregate plugin: load that:"
   ]
  },
  {
   "cell_type": "code",
   "execution_count": 7,
   "metadata": {
    "collapsed": false
   },
   "outputs": [],
   "source": [
    "minute_bars = trades.apply('timeprice', 'tuple(ms,price)')\n",
    "minute_bars = sdb.afl.regrid(minute_bars, 1000, 1, 60000,\n",
    "            'axial_first(timeprice) as open',\n",
    "            'max(price) as high',\n",
    "            'min(price) as low',\n",
    "            'axial_last(timeprice) as close'\n",
    "          )\n",
    "minute_bars = minute_bars.slice('dummy', 0)\\\n",
    "                            .eval()\n"
   ]
  },
  {
   "cell_type": "code",
   "execution_count": 8,
   "metadata": {
    "collapsed": false
   },
   "outputs": [
    {
     "data": {
      "text/html": [
       "<div>\n",
       "<table border=\"1\" class=\"dataframe\">\n",
       "  <thead>\n",
       "    <tr style=\"text-align: right;\">\n",
       "      <th></th>\n",
       "      <th></th>\n",
       "      <th>open</th>\n",
       "      <th>high</th>\n",
       "      <th>low</th>\n",
       "      <th>close</th>\n",
       "    </tr>\n",
       "    <tr>\n",
       "      <th>symbol_index</th>\n",
       "      <th>ms</th>\n",
       "      <th></th>\n",
       "      <th></th>\n",
       "      <th></th>\n",
       "      <th></th>\n",
       "    </tr>\n",
       "  </thead>\n",
       "  <tbody>\n",
       "    <tr>\n",
       "      <th rowspan=\"5\" valign=\"top\">0</th>\n",
       "      <th>570</th>\n",
       "      <td>61.0</td>\n",
       "      <td>63.500</td>\n",
       "      <td>60.025</td>\n",
       "      <td>62.8</td>\n",
       "    </tr>\n",
       "    <tr>\n",
       "      <th>571</th>\n",
       "      <td>62.7</td>\n",
       "      <td>63.500</td>\n",
       "      <td>62.200</td>\n",
       "      <td>63.5</td>\n",
       "    </tr>\n",
       "    <tr>\n",
       "      <th>572</th>\n",
       "      <td>63.6</td>\n",
       "      <td>64.899</td>\n",
       "      <td>63.000</td>\n",
       "      <td>63.6</td>\n",
       "    </tr>\n",
       "    <tr>\n",
       "      <th>573</th>\n",
       "      <td>63.5</td>\n",
       "      <td>64.500</td>\n",
       "      <td>63.500</td>\n",
       "      <td>64.3</td>\n",
       "    </tr>\n",
       "    <tr>\n",
       "      <th>574</th>\n",
       "      <td>64.1</td>\n",
       "      <td>64.400</td>\n",
       "      <td>64.000</td>\n",
       "      <td>64.4</td>\n",
       "    </tr>\n",
       "  </tbody>\n",
       "</table>\n",
       "</div>"
      ],
      "text/plain": [
       "                  open    high     low  close\n",
       "symbol_index ms                              \n",
       "0            570  61.0  63.500  60.025   62.8\n",
       "             571  62.7  63.500  62.200   63.5\n",
       "             572  63.6  64.899  63.000   63.6\n",
       "             573  63.5  64.500  63.500   64.3\n",
       "             574  64.1  64.400  64.000   64.4"
      ]
     },
     "execution_count": 8,
     "metadata": {},
     "output_type": "execute_result"
    }
   ],
   "source": [
    "minute_bars.todataframe().head()"
   ]
  },
  {
   "cell_type": "markdown",
   "metadata": {},
   "source": [
    "Let's pull out one of these minute bar time series for a particuar stock, CVS. We can consult the symbols array to find it's index directly."
   ]
  },
  {
   "cell_type": "code",
   "execution_count": 9,
   "metadata": {
    "collapsed": false
   },
   "outputs": [
    {
     "data": {
      "text/html": [
       "<div>\n",
       "<table border=\"1\" class=\"dataframe\">\n",
       "  <thead>\n",
       "    <tr style=\"text-align: right;\">\n",
       "      <th></th>\n",
       "      <th>symbol</th>\n",
       "    </tr>\n",
       "    <tr>\n",
       "      <th>symbol_index</th>\n",
       "      <th></th>\n",
       "    </tr>\n",
       "  </thead>\n",
       "  <tbody>\n",
       "    <tr>\n",
       "      <th>1612</th>\n",
       "      <td>CVS</td>\n",
       "    </tr>\n",
       "  </tbody>\n",
       "</table>\n",
       "</div>"
      ],
      "text/plain": [
       "             symbol\n",
       "symbol_index       \n",
       "1612            CVS"
      ]
     },
     "execution_count": 9,
     "metadata": {},
     "output_type": "execute_result"
    }
   ],
   "source": [
    "symbol = 'CVS'\n",
    "tkr[tkr == symbol].todataframe()"
   ]
  },
  {
   "cell_type": "markdown",
   "metadata": {},
   "source": [
    "So this says that symbol index 1612 corresponds to CVS.\n",
    "\n",
    "We can use SciDB's cross_join to avoid an explicit index lookup. We do need to use a repart to bring the symbols array schema into a conformable chunking scheme with the minute_bars array. Only the first 10 minutes of bars are shown below:"
   ]
  },
  {
   "cell_type": "code",
   "execution_count": 10,
   "metadata": {
    "collapsed": false,
    "scrolled": true
   },
   "outputs": [
    {
     "data": {
      "text/html": [
       "<div>\n",
       "<table border=\"1\" class=\"dataframe\">\n",
       "  <thead>\n",
       "    <tr style=\"text-align: right;\">\n",
       "      <th></th>\n",
       "      <th></th>\n",
       "      <th>open</th>\n",
       "      <th>high</th>\n",
       "      <th>low</th>\n",
       "      <th>close</th>\n",
       "      <th>symbol</th>\n",
       "    </tr>\n",
       "    <tr>\n",
       "      <th>symbol_index</th>\n",
       "      <th>ms</th>\n",
       "      <th></th>\n",
       "      <th></th>\n",
       "      <th></th>\n",
       "      <th></th>\n",
       "      <th></th>\n",
       "    </tr>\n",
       "  </thead>\n",
       "  <tbody>\n",
       "    <tr>\n",
       "      <th rowspan=\"5\" valign=\"top\">1612</th>\n",
       "      <th>513</th>\n",
       "      <td>72.0</td>\n",
       "      <td>72.0</td>\n",
       "      <td>67.1</td>\n",
       "      <td>67.1</td>\n",
       "      <td>CVS</td>\n",
       "    </tr>\n",
       "    <tr>\n",
       "      <th>560</th>\n",
       "      <td>70.1</td>\n",
       "      <td>70.1</td>\n",
       "      <td>70.1</td>\n",
       "      <td>70.1</td>\n",
       "      <td>CVS</td>\n",
       "    </tr>\n",
       "    <tr>\n",
       "      <th>561</th>\n",
       "      <td>70.1</td>\n",
       "      <td>70.2</td>\n",
       "      <td>70.1</td>\n",
       "      <td>70.2</td>\n",
       "      <td>CVS</td>\n",
       "    </tr>\n",
       "    <tr>\n",
       "      <th>563</th>\n",
       "      <td>70.2</td>\n",
       "      <td>70.2</td>\n",
       "      <td>70.2</td>\n",
       "      <td>70.2</td>\n",
       "      <td>CVS</td>\n",
       "    </tr>\n",
       "    <tr>\n",
       "      <th>565</th>\n",
       "      <td>70.2</td>\n",
       "      <td>70.2</td>\n",
       "      <td>70.2</td>\n",
       "      <td>70.2</td>\n",
       "      <td>CVS</td>\n",
       "    </tr>\n",
       "  </tbody>\n",
       "</table>\n",
       "</div>"
      ],
      "text/plain": [
       "                  open  high   low  close symbol\n",
       "symbol_index ms                                 \n",
       "1612         513  72.0  72.0  67.1   67.1    CVS\n",
       "             560  70.1  70.1  70.1   70.1    CVS\n",
       "             561  70.1  70.2  70.1   70.2    CVS\n",
       "             563  70.2  70.2  70.2   70.2    CVS\n",
       "             565  70.2  70.2  70.2   70.2    CVS"
      ]
     },
     "execution_count": 10,
     "metadata": {},
     "output_type": "execute_result"
    }
   ],
   "source": [
    "mb1 = sdb.merge(minute_bars, \n",
    "                tkr[tkr == symbol]).todataframe()\n",
    "mb1.head()"
   ]
  },
  {
   "cell_type": "markdown",
   "metadata": {},
   "source": [
    "Note! That 570 minutes = 9:30 AM."
   ]
  },
  {
   "cell_type": "code",
   "execution_count": 11,
   "metadata": {
    "collapsed": false,
    "scrolled": true
   },
   "outputs": [
    {
     "data": {
      "image/png": "[encoded data removed]",
      "text/plain": [
       "<matplotlib.figure.Figure at 0x7f90b21ba8d0>"
      ]
     },
     "metadata": {},
     "output_type": "display_data"
    }
   ],
   "source": [
    "%matplotlib inline\n",
    "import matplotlib.pyplot as plt\n",
    "from matplotlib.finance import candlestick_ohlc\n",
    "\n",
    "# Split the dimensions to get the minute co-ordinates\n",
    "l1, l2 = zip(*mb1.index.get_values())\n",
    "# unify into a nparray of tuples for use in candlestick graph\n",
    "q2 = zip(l2, mb1.open, mb1.high, mb1.low, mb1.close)\n",
    "\n",
    "fig, ax = plt.subplots()\n",
    "fig.subplots_adjust(bottom=0.2)\n",
    "fig.suptitle('Minute bars (OHLC): Symbol \\'CVS\\' ', fontsize=14, fontweight='bold')\n",
    "ax.set_xlabel('minutes')\n",
    "ax.set_ylabel('$')\n",
    "\n",
    "candlestick_ohlc(ax, q2[15:30], width=0.6)\n",
    "\n",
    "ax.autoscale_view()\n",
    "plt.setp(plt.gca().get_xticklabels(), rotation=45, horizontalalignment='right')\n",
    "\n",
    "plt.show()"
   ]
  },
  {
   "cell_type": "markdown",
   "metadata": {},
   "source": [
    "## AsOf join\n",
    "\n",
    "The `asof` operator joins trade data with quote data. At time points where quote data is not available, the last known value is looked up and filled in. This is sometimes also called a 'last value carry forward' join or 'piecewise constant interpolation join'.\n",
    "\n",
    "The syntax is:\n",
    "```\n",
    "asof(A, B [, aggrDim [, missingCode]])\n",
    "```\n",
    "\n",
    "where the inputs are:\n",
    "- `A & B`: two arrays that have the same dimensionality;\n",
    "- `aggrDim`: the dimension in A along which to find last_value. Default is the last dimension.\n",
    "- `missingCode`: the missing code to use, when an A record cannot be found. Default is 0.\n",
    "\n",
    "Here is an example that joins trades and quotes for **'BAM'**. We use the fact that we know the symbol index for **BAM** is **615** from the last example. In this example, we only choose the values with dummy dimension of **0** (see comments below)."
   ]
  },
  {
   "cell_type": "code",
   "execution_count": 12,
   "metadata": {
    "collapsed": false,
    "scrolled": true
   },
   "outputs": [
    {
     "data": {
      "text/html": [
       "<div>\n",
       "<table border=\"1\" class=\"dataframe\">\n",
       "  <thead>\n",
       "    <tr style=\"text-align: right;\">\n",
       "      <th></th>\n",
       "      <th>symbol</th>\n",
       "    </tr>\n",
       "    <tr>\n",
       "      <th>symbol_index</th>\n",
       "      <th></th>\n",
       "    </tr>\n",
       "  </thead>\n",
       "  <tbody>\n",
       "    <tr>\n",
       "      <th>615</th>\n",
       "      <td>BAM</td>\n",
       "    </tr>\n",
       "  </tbody>\n",
       "</table>\n",
       "</div>"
      ],
      "text/plain": [
       "             symbol\n",
       "symbol_index       \n",
       "615             BAM"
      ]
     },
     "execution_count": 12,
     "metadata": {},
     "output_type": "execute_result"
    }
   ],
   "source": [
    "symbol = 'BAM'\n",
    "tkr[tkr == symbol].todataframe()"
   ]
  },
  {
   "cell_type": "markdown",
   "metadata": {},
   "source": [
    "Next run some counts for the data for this symbol"
   ]
  },
  {
   "cell_type": "code",
   "execution_count": 13,
   "metadata": {
    "collapsed": false
   },
   "outputs": [
    {
     "name": "stdout",
     "output_type": "stream",
     "text": [
      "Dimensions of trades and quotes arrays:\n",
      "[u'dummy', u'symbol_index', u'ms']\n",
      "\n",
      "# of quotes for symbol = BAM\n",
      "33447\n",
      "\n",
      "# of trades for symbol = BAM\n",
      "4362\n"
     ]
    }
   ],
   "source": [
    "print('Dimensions of trades and quotes arrays:')\n",
    "print(trades.dim_names)\n",
    "print('\\n# of quotes for symbol = %s' % symbol)\n",
    "q1 = quotes.between('null', 615, 'null', 0, 615, 'null')\n",
    "print(q1.nonempty())\n",
    "print('\\n# of trades for symbol = %s' % symbol)\n",
    "t1 = trades.between('null', 615, 'null', 0, 615, 'null')\n",
    "print(t1.nonempty())\n"
   ]
  },
  {
   "cell_type": "markdown",
   "metadata": {},
   "source": [
    "Now note that the dimensions of the `quotes` and `trades` arrays did not have identical chunking in the first place. "
   ]
  },
  {
   "cell_type": "code",
   "execution_count": 14,
   "metadata": {
    "collapsed": false
   },
   "outputs": [
    {
     "name": "stdout",
     "output_type": "stream",
     "text": [
      "[dummy=0:999,1000,0,symbol_index=0:*,10,0,ms=0:86399999,86400000,0]\n",
      "[dummy=0:999,1000,0,symbol_index=0:*,10,0,ms=0:86399999,86400000,0]\n"
     ]
    }
   ],
   "source": [
    "from re import search\n",
    "print(search('\\[.*\\]', q1.schema).group(0))\n",
    "print(search('\\[.*\\]', t1.schema).group(0))"
   ]
  },
  {
   "cell_type": "markdown",
   "metadata": {},
   "source": [
    "We resolve this by `redimension`-ing the (smaller) trades subarray for selected symbol to the same dimension schema as the `quotes` subarray"
   ]
  },
  {
   "cell_type": "code",
   "execution_count": 15,
   "metadata": {
    "collapsed": false,
    "scrolled": true
   },
   "outputs": [],
   "source": [
    "t2 = t1.redimension(\"<price:double NULL DEFAULT null,volume:int64 NULL DEFAULT null,\\\n",
    "                    sequence_number:int64 NULL DEFAULT null,condition:string NULL DEFAULT null,\\\n",
    "                    exchange:string NULL DEFAULT null> \\\n",
    "                    [dummy=0:999,1000,0,symbol_index=0:*,10,0,ms=0:86399999,86400000,0]\")"
   ]
  },
  {
   "cell_type": "markdown",
   "metadata": {},
   "source": [
    "Next we run the `asof` join and make some simple checks:"
   ]
  },
  {
   "cell_type": "code",
   "execution_count": 16,
   "metadata": {
    "collapsed": false
   },
   "outputs": [
    {
     "name": "stdout",
     "output_type": "stream",
     "text": [
      "The head() of the trades array\n"
     ]
    },
    {
     "data": {
      "text/html": [
       "<div>\n",
       "<table border=\"1\" class=\"dataframe\">\n",
       "  <thead>\n",
       "    <tr style=\"text-align: right;\">\n",
       "      <th></th>\n",
       "      <th></th>\n",
       "      <th></th>\n",
       "      <th>price</th>\n",
       "      <th>volume</th>\n",
       "      <th>sequence_number</th>\n",
       "      <th>condition</th>\n",
       "      <th>exchange</th>\n",
       "    </tr>\n",
       "    <tr>\n",
       "      <th>dummy</th>\n",
       "      <th>symbol_index</th>\n",
       "      <th>ms</th>\n",
       "      <th></th>\n",
       "      <th></th>\n",
       "      <th></th>\n",
       "      <th></th>\n",
       "      <th></th>\n",
       "    </tr>\n",
       "  </thead>\n",
       "  <tbody>\n",
       "    <tr>\n",
       "      <th rowspan=\"5\" valign=\"top\">0</th>\n",
       "      <th rowspan=\"5\" valign=\"top\">615</th>\n",
       "      <th>34185171</th>\n",
       "      <td>38.9</td>\n",
       "      <td>91</td>\n",
       "      <td>3309</td>\n",
       "      <td>TI</td>\n",
       "      <td>P</td>\n",
       "    </tr>\n",
       "    <tr>\n",
       "      <th>34185172</th>\n",
       "      <td>39.0</td>\n",
       "      <td>100</td>\n",
       "      <td>3310</td>\n",
       "      <td>FT</td>\n",
       "      <td>T</td>\n",
       "    </tr>\n",
       "    <tr>\n",
       "      <th>34185173</th>\n",
       "      <td>38.8</td>\n",
       "      <td>91</td>\n",
       "      <td>3312</td>\n",
       "      <td>TI</td>\n",
       "      <td>T</td>\n",
       "    </tr>\n",
       "    <tr>\n",
       "      <th>34185950</th>\n",
       "      <td>38.8</td>\n",
       "      <td>9</td>\n",
       "      <td>3313</td>\n",
       "      <td>TI</td>\n",
       "      <td>T</td>\n",
       "    </tr>\n",
       "    <tr>\n",
       "      <th>34200381</th>\n",
       "      <td>39.8</td>\n",
       "      <td>9761</td>\n",
       "      <td>3695</td>\n",
       "      <td>O</td>\n",
       "      <td>N</td>\n",
       "    </tr>\n",
       "  </tbody>\n",
       "</table>\n",
       "</div>"
      ],
      "text/plain": [
       "                             price  volume  sequence_number condition exchange\n",
       "dummy symbol_index ms                                                         \n",
       "0     615          34185171   38.9      91             3309        TI        P\n",
       "                   34185172   39.0     100             3310       FT         T\n",
       "                   34185173   38.8      91             3312        TI        T\n",
       "                   34185950   38.8       9             3313        TI        T\n",
       "                   34200381   39.8    9761             3695      O           N"
      ]
     },
     "execution_count": 16,
     "metadata": {},
     "output_type": "execute_result"
    }
   ],
   "source": [
    "asof1 = q1.asof(t2)\n",
    "print('The head() of the trades array')\n",
    "t1.todataframe().head()"
   ]
  },
  {
   "cell_type": "code",
   "execution_count": 17,
   "metadata": {
    "collapsed": false
   },
   "outputs": [
    {
     "name": "stdout",
     "output_type": "stream",
     "text": [
      "\n",
      "# of elements in the joined result:\n",
      "4362\n",
      "\n",
      "The head() of the joined array\n"
     ]
    },
    {
     "data": {
      "text/html": [
       "<div>\n",
       "<table border=\"1\" class=\"dataframe\">\n",
       "  <thead>\n",
       "    <tr style=\"text-align: right;\">\n",
       "      <th></th>\n",
       "      <th></th>\n",
       "      <th></th>\n",
       "      <th>ask_price</th>\n",
       "      <th>ask_size</th>\n",
       "      <th>bid_price</th>\n",
       "      <th>bid_size</th>\n",
       "      <th>sequence_number</th>\n",
       "      <th>condition</th>\n",
       "      <th>exchange</th>\n",
       "      <th>price</th>\n",
       "      <th>volume</th>\n",
       "      <th>sequence_number_2</th>\n",
       "      <th>condition_2</th>\n",
       "      <th>exchange_2</th>\n",
       "    </tr>\n",
       "    <tr>\n",
       "      <th>dummy</th>\n",
       "      <th>symbol_index</th>\n",
       "      <th>ms</th>\n",
       "      <th></th>\n",
       "      <th></th>\n",
       "      <th></th>\n",
       "      <th></th>\n",
       "      <th></th>\n",
       "      <th></th>\n",
       "      <th></th>\n",
       "      <th></th>\n",
       "      <th></th>\n",
       "      <th></th>\n",
       "      <th></th>\n",
       "      <th></th>\n",
       "    </tr>\n",
       "  </thead>\n",
       "  <tbody>\n",
       "    <tr>\n",
       "      <th rowspan=\"5\" valign=\"top\">0</th>\n",
       "      <th rowspan=\"5\" valign=\"top\">615</th>\n",
       "      <th>34185171</th>\n",
       "      <td>41.6</td>\n",
       "      <td>6</td>\n",
       "      <td>37.8</td>\n",
       "      <td>3</td>\n",
       "      <td>300537</td>\n",
       "      <td>R</td>\n",
       "      <td>P</td>\n",
       "      <td>38.9</td>\n",
       "      <td>91</td>\n",
       "      <td>3309</td>\n",
       "      <td>TI</td>\n",
       "      <td>P</td>\n",
       "    </tr>\n",
       "    <tr>\n",
       "      <th>34185172</th>\n",
       "      <td>41.6</td>\n",
       "      <td>6</td>\n",
       "      <td>37.8</td>\n",
       "      <td>3</td>\n",
       "      <td>300537</td>\n",
       "      <td>R</td>\n",
       "      <td>P</td>\n",
       "      <td>39.0</td>\n",
       "      <td>100</td>\n",
       "      <td>3310</td>\n",
       "      <td>FT</td>\n",
       "      <td>T</td>\n",
       "    </tr>\n",
       "    <tr>\n",
       "      <th>34185173</th>\n",
       "      <td>41.6</td>\n",
       "      <td>6</td>\n",
       "      <td>37.8</td>\n",
       "      <td>3</td>\n",
       "      <td>300537</td>\n",
       "      <td>R</td>\n",
       "      <td>P</td>\n",
       "      <td>38.8</td>\n",
       "      <td>91</td>\n",
       "      <td>3312</td>\n",
       "      <td>TI</td>\n",
       "      <td>T</td>\n",
       "    </tr>\n",
       "    <tr>\n",
       "      <th>34185950</th>\n",
       "      <td>42.0</td>\n",
       "      <td>1</td>\n",
       "      <td>37.8</td>\n",
       "      <td>3</td>\n",
       "      <td>300938</td>\n",
       "      <td>R</td>\n",
       "      <td>P</td>\n",
       "      <td>38.8</td>\n",
       "      <td>9</td>\n",
       "      <td>3313</td>\n",
       "      <td>TI</td>\n",
       "      <td>T</td>\n",
       "    </tr>\n",
       "    <tr>\n",
       "      <th>34200381</th>\n",
       "      <td>40.1</td>\n",
       "      <td>1</td>\n",
       "      <td>37.0</td>\n",
       "      <td>1</td>\n",
       "      <td>305290</td>\n",
       "      <td>R</td>\n",
       "      <td>T</td>\n",
       "      <td>39.8</td>\n",
       "      <td>9761</td>\n",
       "      <td>3695</td>\n",
       "      <td>O</td>\n",
       "      <td>N</td>\n",
       "    </tr>\n",
       "  </tbody>\n",
       "</table>\n",
       "</div>"
      ],
      "text/plain": [
       "                             ask_price  ask_size  bid_price  bid_size  \\\n",
       "dummy symbol_index ms                                                   \n",
       "0     615          34185171       41.6         6       37.8         3   \n",
       "                   34185172       41.6         6       37.8         3   \n",
       "                   34185173       41.6         6       37.8         3   \n",
       "                   34185950       42.0         1       37.8         3   \n",
       "                   34200381       40.1         1       37.0         1   \n",
       "\n",
       "                             sequence_number condition exchange  price  \\\n",
       "dummy symbol_index ms                                                    \n",
       "0     615          34185171           300537         R        P   38.9   \n",
       "                   34185172           300537         R        P   39.0   \n",
       "                   34185173           300537         R        P   38.8   \n",
       "                   34185950           300938         R        P   38.8   \n",
       "                   34200381           305290         R        T   39.8   \n",
       "\n",
       "                             volume  sequence_number_2 condition_2 exchange_2  \n",
       "dummy symbol_index ms                                                          \n",
       "0     615          34185171      91               3309          TI          P  \n",
       "                   34185172     100               3310         FT           T  \n",
       "                   34185173      91               3312          TI          T  \n",
       "                   34185950       9               3313          TI          T  \n",
       "                   34200381    9761               3695        O             N  "
      ]
     },
     "execution_count": 17,
     "metadata": {},
     "output_type": "execute_result"
    }
   ],
   "source": [
    "print('\\n# of elements in the joined result:')\n",
    "print(asof1.nonempty())\n",
    "print('\\nThe head() of the joined array')\n",
    "asof1.todataframe().head()"
   ]
  }
 ],
 "metadata": {
  "kernelspec": {
   "display_name": "Python 2",
   "language": "python",
   "name": "python2"
  },
  "language_info": {
   "codemirror_mode": {
    "name": "ipython",
    "version": 2
   },
   "file_extension": ".py",
   "mimetype": "text/x-python",
   "name": "python",
   "nbconvert_exporter": "python",
   "pygments_lexer": "ipython2",
   "version": "2.7.11"
  }
 },
 "nbformat": 4,
 "nbformat_minor": 0
}
